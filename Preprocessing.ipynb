{
  "cells": [
    {
      "cell_type": "code",
      "execution_count": null,
      "id": "8426d15c",
      "metadata": {
        "id": "8426d15c",
        "colab": {
          "base_uri": "https://localhost:8080/"
        },
        "outputId": "f4dfbdda-fb92-4062-d1f5-3d41a30d39db"
      },
      "outputs": [
        {
          "output_type": "stream",
          "name": "stdout",
          "text": [
            "Mounted at /content/drive\n"
          ]
        }
      ],
      "source": [
        "import pandas as pd\n",
        "import numpy as np\n",
        "\n",
        "from google.colab import drive\n",
        "drive.mount('/content/drive', force_remount=True)"
      ]
    },
    {
      "cell_type": "code",
      "source": [
        "!ls /content/drive/MyDrive/Interlub/"
      ],
      "metadata": {
        "id": "Htm7kur34mwh",
        "colab": {
          "base_uri": "https://localhost:8080/"
        },
        "outputId": "3044d10d-48ca-470e-a6c5-fe8656ca3e48"
      },
      "id": "Htm7kur34mwh",
      "execution_count": null,
      "outputs": [
        {
          "output_type": "stream",
          "name": "stdout",
          "text": [
            " clean_data.csv\t\t      Forecasting.ipynb\t\t   orders_preprocessed.csv\n",
            " clean_data_no_outliers.csv   ForecastingWEEKS.ipynb\t   orders_preprocessed_top_items.csv\n",
            " DataCleaning_guide.ipynb     Inventory_prediction.ipynb   orders_weeks.csv\n",
            " DataCleaning.ipynb\t     'Linear Regression.ipynb'\t   Preprocessing.ipynb\n",
            " DataHackathon.xlsx\t      Model_Comparison.ipynb\t   TimeSeries1.ipynb\n"
          ]
        }
      ]
    },
    {
      "cell_type": "code",
      "source": [
        "df = pd.read_csv('/content/drive/MyDrive/Interlub/clean_data.csv')\n",
        "df_no_outliers = pd.read_csv('/content/drive/MyDrive/Interlub/clean_data_no_outliers.csv')\n",
        "df.head()"
      ],
      "metadata": {
        "id": "Hq7uFgVNvMuP"
      },
      "id": "Hq7uFgVNvMuP",
      "execution_count": null,
      "outputs": []
    },
    {
      "cell_type": "markdown",
      "source": [
        "Aggregating for daily orders per product"
      ],
      "metadata": {
        "id": "M9J_bjypqM5b"
      },
      "id": "M9J_bjypqM5b"
    },
    {
      "cell_type": "code",
      "source": [
        "total_orders_df = df.drop(columns=['Orden de Venta', 'Codigo Cliente'])\n",
        "total_orders_df_no_outliers = df_no_outliers.drop(columns=['Orden de Venta', 'Codigo Cliente'])\n",
        "agg_rules = {\n",
        "    'Cantidad': 'sum',  # Sum the quantity\n",
        "    'Unidad de venta': lambda x: x.mode()[0] if not x.mode().empty else None  # Mode for categorical data\n",
        "}\n",
        "aggregated_df = total_orders_df.groupby(['Creacion Orden de Venta', 'Articulo'], as_index=False).agg(agg_rules)\n",
        "aggregated_df_no_outliers = total_orders_df_no_outliers.groupby(['Creacion Orden de Venta', 'Articulo'], as_index=False).agg(agg_rules)\n",
        "aggregated_df.head()"
      ],
      "metadata": {
        "id": "9DBVXkpkoIZr"
      },
      "id": "9DBVXkpkoIZr",
      "execution_count": null,
      "outputs": []
    },
    {
      "cell_type": "code",
      "source": [
        "# Ensure data is sorted by date (important for time series split)\n",
        "aggregated_df = aggregated_df.sort_values(['Articulo', 'Creacion Orden de Venta'])\n",
        "aggregated_df_no_outliers = aggregated_df_no_outliers.sort_values(['Articulo', 'Creacion Orden de Venta'])\n",
        "\n",
        "# Filter product_ids that appear more than 60 times\n",
        "df_filtered = aggregated_df.groupby('Articulo').filter(lambda x: len(x) >= 200)\n",
        "\n",
        "df_filtered_no_outliers = aggregated_df_no_outliers.groupby('Articulo').filter(lambda x: len(x) >= 200)\n",
        "df_filtered.head()"
      ],
      "metadata": {
        "id": "9Yvr79zJokpk"
      },
      "id": "9Yvr79zJokpk",
      "execution_count": null,
      "outputs": []
    },
    {
      "cell_type": "code",
      "source": [
        "df_filtered.shape"
      ],
      "metadata": {
        "id": "mU2p_ym4tbae",
        "colab": {
          "base_uri": "https://localhost:8080/"
        },
        "outputId": "c22be365-e55f-4046-b0d6-b50274654559"
      },
      "id": "mU2p_ym4tbae",
      "execution_count": null,
      "outputs": [
        {
          "output_type": "execute_result",
          "data": {
            "text/plain": [
              "(3406, 4)"
            ]
          },
          "metadata": {},
          "execution_count": 8
        }
      ]
    },
    {
      "cell_type": "code",
      "source": [
        "df_filtered_no_outliers.shape"
      ],
      "metadata": {
        "colab": {
          "base_uri": "https://localhost:8080/"
        },
        "id": "5aATFWnrAowv",
        "outputId": "00ba962a-9f06-4347-d6ba-7ad85ccc945f"
      },
      "id": "5aATFWnrAowv",
      "execution_count": null,
      "outputs": [
        {
          "output_type": "execute_result",
          "data": {
            "text/plain": [
              "(2849, 4)"
            ]
          },
          "metadata": {},
          "execution_count": 9
        }
      ]
    },
    {
      "cell_type": "code",
      "source": [
        "df_filtered_no_outliers['Articulo'].value_counts()"
      ],
      "metadata": {
        "id": "R6b1bKRfDzmJ"
      },
      "id": "R6b1bKRfDzmJ",
      "execution_count": null,
      "outputs": []
    },
    {
      "cell_type": "code",
      "source": [
        "# Get first and last date per product_id\n",
        "product_dates = df_filtered_no_outliers.groupby('Articulo')['Creacion Orden de Venta'].agg(['min', 'max']).reset_index()\n",
        "pd.set_option(\"display.max_rows\", None)\n",
        "print(product_dates.head())"
      ],
      "metadata": {
        "id": "2wWOnVR6DPEn"
      },
      "id": "2wWOnVR6DPEn",
      "execution_count": null,
      "outputs": []
    },
    {
      "cell_type": "code",
      "source": [
        "df_filtered_no_outliers = df_filtered_no_outliers.rename(columns={\"Creacion Orden de Venta\": \"date\", \"Articulo\": \"product_id\", \"Unidad de venta\": \"unit\", \"Cantidad\":\"quantity\"})"
      ],
      "metadata": {
        "collapsed": true,
        "id": "jK2ee1JkMaw2"
      },
      "id": "jK2ee1JkMaw2",
      "execution_count": null,
      "outputs": []
    },
    {
      "cell_type": "code",
      "source": [
        "df_filtered_no_outliers['date'] = pd.to_datetime(df_filtered_no_outliers['date'])\n",
        "df_filtered_no_outliers.head()"
      ],
      "metadata": {
        "id": "WWhoCCDMNFcW"
      },
      "id": "WWhoCCDMNFcW",
      "execution_count": null,
      "outputs": []
    },
    {
      "cell_type": "code",
      "source": [
        "# Define full date range\n",
        "full_date_range = pd.date_range(start='2021-01-01', end='2023-12-31', freq='D')\n",
        "\n",
        "# Get unique products\n",
        "products = df_filtered_no_outliers['product_id'].unique()\n",
        "\n",
        "# Create a DataFrame with all combinations of dates and products\n",
        "full_df = pd.DataFrame({\n",
        "    'date': np.repeat(full_date_range, len(products)),\n",
        "    'product_id': np.tile(products, len(full_date_range))\n",
        "})\n",
        "\n",
        "# Merge with the original DataFrame to find missing dates\n",
        "merged_df = full_df.merge(df_filtered_no_outliers, on=['date', 'product_id'], how='left')\n",
        "\n",
        "# Fill missing values\n",
        "merged_df['unit'] = merged_df.groupby('product_id')['unit'].transform(lambda x: x.fillna(x.mode().iloc[0]))\n",
        "merged_df['quantity'] = merged_df['quantity'].fillna(0)\n",
        "\n",
        "# Sort the DataFrame by product and date\n",
        "merged_df = merged_df.sort_values(by=['product_id', 'date']).reset_index(drop=True)\n",
        "\n",
        "# Sort the DataFrame by product and date\n",
        "merged_df = merged_df.sort_values(by=['product_id', 'date']).reset_index(drop=True)\n",
        "\n",
        "print(merged_df.head())"
      ],
      "metadata": {
        "id": "_3f9ZRRkFdor"
      },
      "id": "_3f9ZRRkFdor",
      "execution_count": null,
      "outputs": []
    },
    {
      "cell_type": "code",
      "source": [
        "# Display result\n",
        "print(merged_df['product_id'].value_counts())  # View first 10 row"
      ],
      "metadata": {
        "id": "GOfhiJxJLETD"
      },
      "id": "GOfhiJxJLETD",
      "execution_count": null,
      "outputs": []
    },
    {
      "cell_type": "code",
      "source": [
        "import matplotlib.pyplot as plt\n",
        "# Filter for product_id 'IVP04039' example dummy product\n",
        "max_product_df = merged_df[merged_df['product_id'] == 'IVP04039'].sort_values('date')\n",
        "\n",
        "# Plot the line graph\n",
        "plt.figure(figsize=(10, 5))\n",
        "plt.plot(max_product_df['date'], max_product_df['quantity'], marker='o', linestyle='-', color='b', label='Cantidad')\n",
        "\n",
        "# Formatting the plot\n",
        "plt.xlabel('Creacion Orden de Venta')\n",
        "plt.ylabel('Cantidad')\n",
        "plt.title('Quantity Trend for Product ID IVP04039')\n",
        "plt.xticks([])  # Hides x-axis labels\n",
        "plt.legend()\n",
        "plt.grid(True)\n",
        "\n",
        "# Show the plot\n",
        "plt.show()"
      ],
      "metadata": {
        "colab": {
          "base_uri": "https://localhost:8080/",
          "height": 463
        },
        "id": "yj7zSzrNJoWe",
        "outputId": "d7af2aa3-7d15-46f7-e68d-1b1b1a99b053"
      },
      "id": "yj7zSzrNJoWe",
      "execution_count": null,
      "outputs": [
        {
          "output_type": "display_data",
          "data": {
            "text/plain": [
              "<Figure size 1000x500 with 1 Axes>"
            ],
            "image/png": "[encoded data removed]"
          },
          "metadata": {}
        }
      ]
    },
    {
      "cell_type": "code",
      "source": [
        "merged_df['quantity'].mean()"
      ],
      "metadata": {
        "colab": {
          "base_uri": "https://localhost:8080/"
        },
        "id": "CAR9qwt0H19R",
        "outputId": "11afa261-8448-4a4b-e831-40a3f8299e76"
      },
      "id": "CAR9qwt0H19R",
      "execution_count": null,
      "outputs": [
        {
          "output_type": "execute_result",
          "data": {
            "text/plain": [
              "np.float64(48.86037544393709)"
            ]
          },
          "metadata": {},
          "execution_count": 18
        }
      ]
    },
    {
      "cell_type": "code",
      "source": [
        "merged_df.to_csv(\"orders_preprocessed_top_items.csv\", index=False)"
      ],
      "metadata": {
        "id": "-OipFCswoqXs"
      },
      "id": "-OipFCswoqXs",
      "execution_count": null,
      "outputs": []
    }
  ],
  "metadata": {
    "kernelspec": {
      "display_name": "Python 3",
      "name": "python3"
    },
    "language_info": {
      "codemirror_mode": {
        "name": "ipython",
        "version": 3
      },
      "file_extension": ".py",
      "mimetype": "text/x-python",
      "name": "python",
      "nbconvert_exporter": "python",
      "pygments_lexer": "ipython3",
      "version": "3.10.9"
    },
    "colab": {
      "provenance": []
    }
  },
  "nbformat": 4,
  "nbformat_minor": 5
}